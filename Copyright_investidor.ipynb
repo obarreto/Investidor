{
  "nbformat": 4,
  "nbformat_minor": 0,
  "metadata": {
    "colab": {
      "provenance": [],
      "authorship_tag": "ABX9TyMpKRMKT1r0aAG7JPNp5B61",
      "include_colab_link": true
    },
    "kernelspec": {
      "name": "python3",
      "display_name": "Python 3"
    }
  },
  "cells": [
    {
      "cell_type": "markdown",
      "metadata": {
        "id": "view-in-github",
        "colab_type": "text"
      },
      "source": [
        "<a href=\"https://colab.research.google.com/github/obarreto/Investidor/blob/main/Copyright_investidor.ipynb\" target=\"_parent\"><img src=\"https://colab.research.google.com/assets/colab-badge.svg\" alt=\"Open In Colab\"/></a>"
      ]
    },
    {
      "cell_type": "code",
      "execution_count": null,
      "metadata": {
        "id": "8nlxj7MZocnB"
      },
      "outputs": [],
      "source": []
    },
    {
      "cell_type": "markdown",
      "source": [
        "Olá caro investidor, sim esse documento foi criado pensando em você. Imagina você receber dados e atualizações dos principais indicadores do mercado imobiliário ?\n",
        "Aqui te mostramos quando é o melhor momento para navegar nesse profundo e maravilhoso oceano de ganhos e rentabilidade que só o mercado imobiliário tem o poder de lhe oferecer.\n",
        "\n",
        "Sim é possível ganhar e faturar ao longo da vida com vendas e locações de imovéis.\n",
        "\n",
        "Eu Ozeias Barreto irei te conduzir nesse oceano vasto e complexo, trazendo o insights que você precisa ter para obter o melhor rendimento.\n",
        "\n",
        "Vamos lá!\n",
        "\n",
        "https://www.portaldeempreendimentos.caixa.gov.br/simulador/\n",
        "\n",
        "https://www.caixa.gov.br/voce/habitacao/minha-casa-minha-vida/urbana/Paginas/default.aspx#:~:text=O%20que%20%C3%A9%20o%20Minha,de%20at%C3%A9%20R%24%208%20mil.\n",
        "\n",
        "https://www.ibge.gov.br/\n",
        "\n",
        "http://www.cbicdados.com.br/home/\n",
        "\n",
        "https://www.bcb.gov.br/\n",
        "\n",
        "Abrainc (Associação Brasileira de Incorporadoras Imobiliárias/Fundação Instituto de Pesquisas Econômicas) - Fipe > 22.2%\n",
        "\n",
        "Habitação Porpular > 22.9% R$11.9b\n",
        "\n",
        "Medio e Alto padrão > 18.9 R$10.7b\n",
        "\n",
        "IGMI-R (Indice geral do mercado imobiliario\n",
        "É calculado com base nas avaliações do imóveis oferecidos como garantia em contratos de financiamentos de 4k municipios. Segundo ele, a alta dos preços médios do imóveis no Brasil foi cerca de 7.97% no ano passado.\n",
        "A estabilidade nas taxas de uros de finaciamentos também contibuiu com o crescimento do setor imobiliário. Hoe a taxa Selic, referente ao Sistema Especial de Liquidação de cotudio. Está em 11.25% o que representa uma queda em relação à taxa de alguns meses atrás.\n",
        "Assim é possível você comprar imóveis maiores e mais luxuosos com valores mais acessíveis, e que antes só permitiam investimentos menores. Pense nisso !\n",
        "\n",
        "Na CAIXA você pode optar pelos sistemas de amortização SAC ou SFA/TP (PRICE)\n",
        "\n",
        "* SAC - Sistema de Amortização Constante - o valor da parcela do encargo mensal diminui ao longo do tempo.\n",
        "\n",
        "* Tabela Price - O valor da parcela do encargo mensal para amortizar o financiamento é crescente e a parcela de uros decrescentes, sendo o encargo mensal constante durante o prazo contratado.\n",
        "\n",
        "O sistema de amortização define a maneira como os valores pagos na prestação amortizan o saldo devedor sendo que nos dois sistemas ocorre, em proporções diferentes, a redução gradual do valor da dívida, conforme são pagas as prestações mensais.\n",
        "\n",
        "Quanto mais rápido você amortiza o saldo devedor, menos uros pagará em valores absolutos. No SAC, como as prestações iniciais são um pouco mais altas, você acaba reduzindo mais rápido saldo devedor, o que resulta em um menor valor total pago em uros, considerando o mesmo prazo de contrato, se comparado ao sistema PRICE.\n",
        "\n",
        "Porém com as prestações inicais são maiores no sitema SAC é exigido de você uma maior capacidade de pagamento. Este sistema também é caracterizado pela gradativa redução do valor da prestação, notadamente, no final do contrato.\n",
        "\n",
        "No sistema PRICE, você pode ter prestações iniciais menores, todavia, como a amortização do saldo devedor é fetio de forma mais lenta comparado ao sistema SAC, o montante de uros pagos ao final acaba sendo maior.\n",
        "\n",
        "Por decorrência, no Sistema PRICE, como a prestação inicial é mais baixa, no ato da contratação da operação de finaciamento, é exigida uma capacidade de pagamento menor.\n",
        "\n",
        "\n",
        "Seguro MIP - Morte e Invalidez Permanente: Seguro para cobertura de riscos de natureza pessoal. O valor assegurado do MIP corresponde, na concessão do contrato, ao valor do financiamento e, na evolução do contrato, ao valor do saldo devedor variando conforme a idades do proponente mais idoso.\n",
        "\n",
        "Seguro DFI - Danos físicos ao imóvel e, na evolução do contrato, ao valor atualizado da garantia. As coberturas básicas deste seguro são: Incêncdio e explosão, inundação e alagamento, demoronamento e ameaça de desmoronamento e destelhamento. Fica ao seu critério qual seguradora quer fazer a contração dos seguros MIP e DFI dentre as disponibilizadas pela CAIXA, tendo também a opção de apresentar outra seguradora de sua escolha cua aceitação será analisada pela CAIXA. Para esta anásile é devida uma tarifa, conforme estabelecido em Tabela de Tarifas da CAIXA.\n",
        "\n",
        "\n"
      ],
      "metadata": {
        "id": "kAzS6g1Sq2KB"
      }
    }
  ]
}